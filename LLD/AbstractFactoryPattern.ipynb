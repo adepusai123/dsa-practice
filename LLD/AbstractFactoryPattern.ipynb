{
  "metadata": {
    "kernelspec": {
      "name": "python",
      "display_name": "Python (Pyodide)",
      "language": "python"
    },
    "language_info": {
      "codemirror_mode": {
        "name": "python",
        "version": 3
      },
      "file_extension": ".py",
      "mimetype": "text/x-python",
      "name": "python",
      "nbconvert_exporter": "python",
      "pygments_lexer": "ipython3",
      "version": "3.8"
    }
  },
  "nbformat_minor": 5,
  "nbformat": 4,
  "cells": [
    {
      "id": "b99a4122-81dd-4e39-a69c-695f58435abd",
      "cell_type": "code",
      "source": "'''\n    The Abstract Factory Pattern is a creational design pattern that provides an interface \n    for creating families of related objects without specifying their concrete classes. \n    It’s useful when a system needs to be independent of how its products are created.\n'''\n\nfrom abc import ABC, abstractmethod\n\nclass Pizza(ABC):\n    @abstractmethod\n    def prepare(self):\n        pass\n\n\nclass Drink(ABC):\n    @abstractmethod\n    def pour(self):\n        pass\n\nclass ItalianPizza(Pizza):\n    def prepare(self):\n        return \"Preparing ItalianPizza\"\n\n\nclass ItalianDrink(Drink):\n    def pour(self):\n        return \"Preparing italian drink\"\n\n\nclass AmericanPizza(Pizza):\n    def prepare(self):\n        return \"Preparin American Pizza\"\n\n\nclass AmericanDrink(Drink):\n    def pour(self):\n        return \"Preparing American drink\"\n\n\nclass PizzaFactory(ABC):\n    @abstractmethod\n    def create_pizza(self):\n        pass\n\n    def create_drink(self):\n        pass\n\nclass AmericanPizzaFactory(PizzaFactory):\n    def create_pizza(self):\n        return AmericanPizza()\n\n    def create_drink(self):\n        return AmericanDrink()\n\nclass ItalianPizzaFactory(PizzaFactory):\n    def create_pizza(self):\n        return ItalianPizza()\n\n    def create_drink(self):\n        return ItalianDrink()\n\nclass PizzaShop:\n    def __init__(self, factory:PizzaFactory):\n        self.factory = factory\n\n    def serve_order(self):\n        drink = self.factory.create_drink()\n        pizza = self.factory.create_pizza()\n        print(drink.pour())\n        print(pizza.prepare())\n\n",
      "metadata": {
        "trusted": true
      },
      "outputs": [],
      "execution_count": 1
    },
    {
      "id": "76f0017a-8647-40e9-a95d-b7e4799db8f2",
      "cell_type": "code",
      "source": "cusine = 'italian'\nif cusine == 'italian':\n    factory = ItalianPizzaFactory()\nelif cusine == 'American':\n    factory = AmericanPizzaFactory()\nelse:\n    raise ValueError('Unknown preference')\n\nshop = PizzaShop(factory)",
      "metadata": {
        "trusted": true
      },
      "outputs": [],
      "execution_count": 4
    },
    {
      "id": "92723255-4802-482f-b573-d778979a776d",
      "cell_type": "code",
      "source": "shop.serve_order()",
      "metadata": {
        "trusted": true
      },
      "outputs": [
        {
          "name": "stdout",
          "output_type": "stream",
          "text": "Preparing italian drink\nPreparing ItalianPizza\n"
        }
      ],
      "execution_count": 6
    },
    {
      "id": "acc63974-5e56-4e44-bbdd-70ede6e4a7c5",
      "cell_type": "code",
      "source": "",
      "metadata": {
        "trusted": true
      },
      "outputs": [],
      "execution_count": null
    }
  ]
}