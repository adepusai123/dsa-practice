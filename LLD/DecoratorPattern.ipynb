{
  "metadata": {
    "kernelspec": {
      "name": "python",
      "display_name": "Python (Pyodide)",
      "language": "python"
    },
    "language_info": {
      "codemirror_mode": {
        "name": "python",
        "version": 3
      },
      "file_extension": ".py",
      "mimetype": "text/x-python",
      "name": "python",
      "nbconvert_exporter": "python",
      "pygments_lexer": "ipython3",
      "version": "3.8"
    }
  },
  "nbformat_minor": 5,
  "nbformat": 4,
  "cells": [
    {
      "id": "6dd96e7f-d2de-438f-934e-60a970f23158",
      "cell_type": "code",
      "source": "'''\nThe Decorator Design Pattern allows you to dynamically add \nor modify the behavior of an object at runtime without altering its structure. \nIt is commonly used when you want to extend functionalities in a flexible way.\n'''\n\nfrom abc import ABC, abstractmethod\n\n#Component Interface\nclass Coffee(ABC):\n    @abstractmethod\n    def cost(self):\n        pass\n        \n    def descriptioin(self):\n        pass\n\n#concrete component\nclass SimpleCoffee(Coffee):\n    def cost(self):\n        return 5 # base cost of coffee\n\n    def description(self):\n        return \"Simple Coffee\"\n\n\n#Decorator of coffee class\nclass CoffeeDecorator(Coffee):\n    def __init__(self, coffee):\n        self.coffee= coffee\n\n    def cost(self):\n        return self.coffee.cost()\n\n    def description(self):\n        return self.coffee.description()\n\n\n#concrete decorator\nclass Milk(CoffeeDecorator):\n    def cost(self):\n        return self.coffee.cost() + 2 # add cost of milk to base coffee cost\n\n    def description(self):\n        return self.coffee.description() + ', Milk'\n\n\nclass Sugar(CoffeeDecorator):\n    def cost(self):\n        return self.coffee.cost() + 1 # add cost of sugar\n\n    def description(self):\n        return self.coffee.description() + ', Sugar'\n\nclass WhippingCream(CoffeeDecorator):\n    def cost(self):\n        return self.coffee.cost() + 3 # add cost of cream\n\n    def description(self):\n        return self.coffee.description() + ', Whipping Cream'\n",
      "metadata": {
        "trusted": true
      },
      "outputs": [],
      "execution_count": 10
    },
    {
      "id": "c3893069-5c1e-4287-bf92-484c9b9b0aa8",
      "cell_type": "code",
      "source": "coffee = SimpleCoffee()\nprint(f\"Description: {coffee.description()}\")\nprint(f\"Cost: ${coffee.cost()}\")\n",
      "metadata": {
        "trusted": true
      },
      "outputs": [
        {
          "name": "stdout",
          "output_type": "stream",
          "text": "Description: Simple Coffee\nCost: $5\n"
        }
      ],
      "execution_count": 11
    },
    {
      "id": "de375bbd-05b2-4590-8549-cebca860874e",
      "cell_type": "code",
      "source": "coffee = Milk(coffee)\nprint(f\"Description: {coffee.description()}\")\nprint(f\"Cost: ${coffee.cost()}\")\n",
      "metadata": {
        "trusted": true
      },
      "outputs": [
        {
          "name": "stdout",
          "output_type": "stream",
          "text": "Description: Simple Coffee, Milk\nCost: $7\n"
        }
      ],
      "execution_count": 12
    },
    {
      "id": "4b6452b2-1a2a-47bf-a550-3f4c6827e2de",
      "cell_type": "code",
      "source": "coffee = Sugar(Milk(coffee))\nprint(f\"Description: {coffee.description()}\")\nprint(f\"Cost: ${coffee.cost()}\")",
      "metadata": {
        "trusted": true
      },
      "outputs": [
        {
          "name": "stdout",
          "output_type": "stream",
          "text": "Description: Simple Coffee, Milk, Milk, Sugar\nCost: $10\n"
        }
      ],
      "execution_count": 13
    },
    {
      "id": "769456ef-53f3-4f48-b1a2-ca0b4d2793a9",
      "cell_type": "code",
      "source": "",
      "metadata": {
        "trusted": true
      },
      "outputs": [],
      "execution_count": null
    }
  ]
}