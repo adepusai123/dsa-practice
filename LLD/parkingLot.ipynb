{
  "metadata": {
    "kernelspec": {
      "name": "python",
      "display_name": "Python (Pyodide)",
      "language": "python"
    },
    "language_info": {
      "codemirror_mode": {
        "name": "python",
        "version": 3
      },
      "file_extension": ".py",
      "mimetype": "text/x-python",
      "name": "python",
      "nbconvert_exporter": "python",
      "pygments_lexer": "ipython3",
      "version": "3.8"
    }
  },
  "nbformat_minor": 5,
  "nbformat": 4,
  "cells": [
    {
      "id": "a8e9d7ca-129c-43b9-a133-e7d49fe8e32c",
      "cell_type": "code",
      "source": "'''\n    Parking Lot problem \n    1. Vehicle parking with hourly based cost\n    2. \n'''\nfrom datetime import datetime\nfrom abc import ABC, abstractmethod\n\n# class interface\nclass Parking(ABC):\n    @abstractmethod\n    def add_parking_lot(self, lot_id):\n        pass\n\n    @abstractmethod\n    def enter_parking(self, license_plate):\n        pass\n\n    @abstractmethod\n    def exit_parking(self, license_plate):\n        pass\n        \n    @abstractmethod\n    def display_parked_vehicle(self):\n        pass\n\n    @abstractmethod\n    def display_parking_lots(self):\n        pass\n\n#Concrete class\nclass ParkingLot(Parking):\n    def __init__(self, hourly_rate):\n        self.hourly_rate = hourly_rate\n        self.parking_data = {} # Stores vehicle data : { \"licence_plate\" : (entry_time, cost)}\n        self.lots = {} # Store lots data: { lot_id : { occupied: bool,  vehicle: str }}\n\n    def add_parking_lot(self, lot_id):\n        if lot_id in self.lots:\n            print(f\"Parking lot {lot_id} is already exist\")\n        else:\n            self.lots[lot_id] = { \"occupied\" : False, \"vehicle\": None }\n\n    def enter_parking(self, license_plate):\n        if license_plate in self.parking_data:\n            print(f\"Duplicate entry detected {license_plate} already parked.\")\n        else:\n            #find the first available spot \n            available_lot = None\n            for lot_id, data in self.lots.items():\n                if not data['occupied']:\n                    available_lot = lot_id\n                    break\n            if available_lot is None:\n                print(f\"No parking spots available\")\n            else:\n                entry_time = datetime.now()\n                self.parking_data[license_plate] = (entry_time,0)\n                self.lots[available_lot] = { \"occupied\" : True, \"vehicle\" : license_plate } \n                print(f\"Vehicle {license_plate} entered parking lot {available_lot} at {entry_time}.\")\n\n    def exit_parking(self, license_plate):\n        if license_plate not in self.parking_data:\n            print(f\"Vehicle {license_plate} is not found in the parking lot\")\n        else:\n            entry_time, _ = self.parking_data[license_plate]\n            exit_time = datetime.now()\n            total_time = exit_time - entry_time\n            hours_parked = total_time.total_seconds() / 3600\n            cost = round(hours_parked * self.hourly_rate, 2)\n\n            # Find the lot occupied by this vehicle\n            lot_id = None\n            for lot, data in self.lots.items():\n                if data['vehicle'] == license_plate:\n                    lot_id = lot\n                    break\n            \n            # free lot\n            if lot_id:\n                self.lots[lot_id]  = {\"occupied\" : False, \"vehicle\" : None}\n\n            # Remove vehicle from parking data\n            del self.parking_data[license_plate]\n            print(f\"Vehicle {license_plate} existed lot {lot_id} at {exit_time}. \\n Total time parked : {total_time} hours: {hours_parked: .2f}.\\n Total cost: ${cost}.\")\n\n    def display_parked_vehicle(self):\n        if not self.parking_data:\n            print(\"Parking lots is empty\")\n        else:\n            vehicles = \"Currently parked vehicles are : \\n\"\n            for license_plate, (entry_time,_) in self.parking_data.items():\n                vehicles += f\" - {license_plate} (Entered at : {entry_time}) \\n\"\n            print(f\" Parked vehicles:  {vehicles}\")\n\n\n    def display_parking_lots(self):\n        lot_status = \"Parking lot status: \\n\"\n        for lot_id, data  in self.lots.items():\n            status = \"occupied\" if data[\"occupied\"] else \"Available\"\n            vehicle  = data[\"vehicle\"] if data[\"vehicle\"] else \"None\"\n            lot_status += f\"- Lot {lot_id}: {status} Vehicle: {vehicle} \\n\"\n        print(f\"Parking Lot status: {lot_status}\")\n\n\n\n",
      "metadata": {
        "trusted": true
      },
      "outputs": [],
      "execution_count": 81
    },
    {
      "id": "293bb4be-39c0-4005-85d5-34bcea2f71b7",
      "cell_type": "code",
      "source": "hourly_rate = 5.0  # Set hourly parking rate\nparking_lot = ParkingLot(hourly_rate)",
      "metadata": {
        "trusted": true
      },
      "outputs": [],
      "execution_count": 82
    },
    {
      "id": "7a8a517c-2fb0-4be4-8db9-dc2a58ceb53a",
      "cell_type": "code",
      "source": "parking_lot.parking_data",
      "metadata": {
        "trusted": true
      },
      "outputs": [
        {
          "execution_count": 86,
          "output_type": "execute_result",
          "data": {
            "text/plain": "{'A1234': (datetime.datetime(2025, 1, 22, 21, 56, 21, 641000), 0)}"
          },
          "metadata": {}
        }
      ],
      "execution_count": 86
    },
    {
      "id": "ea88170e-035f-4266-a16b-4a1321433332",
      "cell_type": "code",
      "source": "parking_lot.add_parking_lot('b1')\nparking_lot.lots",
      "metadata": {
        "trusted": true
      },
      "outputs": [
        {
          "execution_count": 87,
          "output_type": "execute_result",
          "data": {
            "text/plain": "{'a1': {'occupied': True, 'vehicle': 'A1234'},\n 'b1': {'occupied': False, 'vehicle': None}}"
          },
          "metadata": {}
        }
      ],
      "execution_count": 87
    },
    {
      "id": "fd31e3d6-de8f-4fa3-ad76-878203fdbf54",
      "cell_type": "code",
      "source": "license_plate ='B1234'\nparking_lot.enter_parking(license_plate)",
      "metadata": {
        "trusted": true
      },
      "outputs": [
        {
          "name": "stdout",
          "output_type": "stream",
          "text": "Vehicle B1234 entered parking lot b1 at 2025-01-22 21:56:32.680000.\n"
        }
      ],
      "execution_count": 88
    },
    {
      "id": "0f7e6f08-3d8f-4eaa-8f4b-00812d86f513",
      "cell_type": "code",
      "source": "parking_lot.exit_parking(license_plate)",
      "metadata": {
        "trusted": true
      },
      "outputs": [
        {
          "name": "stdout",
          "output_type": "stream",
          "text": "Vehicle V1234 existed lot b1 at 2025-01-22 21:50:05.847000. \n Total time parked : 0:00:13.010000 hours:  0.00.\n Total cost: $0.02.\n"
        }
      ],
      "execution_count": 42
    },
    {
      "id": "2a335a0a-ef47-405c-a69a-83b815142498",
      "cell_type": "code",
      "source": "parking_lot.display_parking_lots()",
      "metadata": {
        "trusted": true
      },
      "outputs": [
        {
          "name": "stdout",
          "output_type": "stream",
          "text": "Parking Lot status: Parking lot status: \n- Lot a1: occupied Vehicle: A1234 \n- Lot b1: occupied Vehicle: B1234 \n\n"
        }
      ],
      "execution_count": 89
    },
    {
      "id": "8d4798b4-3939-451d-92f3-f45fd16fb8f4",
      "cell_type": "code",
      "source": "parking_lot.display_parked_vehicle()",
      "metadata": {
        "trusted": true
      },
      "outputs": [
        {
          "name": "stdout",
          "output_type": "stream",
          "text": " Parked vehicles:  Currently parked vehicles are : \n - A1234 (Entered at : 2025-01-22 21:56:21.641000) \n - B1234 (Entered at : 2025-01-22 21:56:32.680000) \n\n"
        }
      ],
      "execution_count": 90
    },
    {
      "id": "05679d75-be62-4444-8fab-0e74e8de536a",
      "cell_type": "code",
      "source": "",
      "metadata": {
        "trusted": true
      },
      "outputs": [],
      "execution_count": null
    }
  ]
}