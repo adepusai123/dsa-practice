{
  "cells": [
    {
      "cell_type": "markdown",
      "id": "390bac01",
      "metadata": {},
      "source": [
        "The Chain of Responsibility (CoR) pattern is a behavioral design pattern used to pass requests along \n",
        "a chain of handlers until one of them handles it. This pattern promotes loose coupling and enhances \n",
        "flexibility by allowing multiple objects to handle a request without specifying the handler explicitly.\n",
        "Key Concepts:\n",
        "\n",
        "1. Handler – Defines an interface for handling requests and optionally passing them to the next handler in the chain.\n",
        "2. Concrete Handlers – Implement the handler interface and decide whether to process the request or pass it along.\n",
        "3. Client – Initiates requests without knowing which handler will process them.\n"
      ]
    },
    {
      "cell_type": "code",
      "execution_count": 12,
      "id": "c436dd3f-79fd-4a95-b4c5-e8c0e1d03eca",
      "metadata": {
        "trusted": true
      },
      "outputs": [],
      "source": [
        "'''\n",
        "The Chain of Responsibility (CoR) pattern is a behavioral design pattern used to pass requests along \n",
        "a chain of handlers until one of them handles it. This pattern promotes loose coupling and enhances \n",
        "flexibility by allowing multiple objects to handle a request without specifying the handler explicitly.\n",
        "Key Concepts:\n",
        "\n",
        "1. Handler – Defines an interface for handling requests and optionally passing them to the next handler in the chain.\n",
        "2. Concrete Handlers – Implement the handler interface and decide whether to process the request or pass it along.\n",
        "3. Client – Initiates requests without knowing which handler will process them.\n",
        "\n",
        "'''\n",
        "from abc import ABC, abstractmethod\n",
        "\n",
        "class Logger(ABC):\n",
        "    def __init__(self, next_logger= None):\n",
        "        self.next_logger = next_logger\n",
        "\n",
        "    def log_message(self, message, level):\n",
        "        if self.can_handle(level):\n",
        "            self.write(message)\n",
        "        if self.next_logger:\n",
        "            self.next_logger.log_message(message, level)\n",
        "\n",
        "    @abstractmethod\n",
        "    def can_handle(self):\n",
        "        pass\n",
        "\n",
        "    @abstractmethod\n",
        "    def write(self,message):\n",
        "        pass\n",
        "\n",
        "\n",
        "class InfoLogger(Logger):\n",
        "    def can_handle(self, level):\n",
        "        return level == 1\n",
        "\n",
        "    def write(self, message):\n",
        "        print(f\"[info]: {message}\")\n",
        "        \n",
        "class ErrorLogger(Logger):\n",
        "    def can_handle(self, level):\n",
        "        return level == 2\n",
        "\n",
        "    def write(self, message):\n",
        "        print(f\"[error]: {message}\")\n",
        "\n",
        "class DebugLogger(Logger):\n",
        "    def can_handle(self, level):\n",
        "        return level == 3\n",
        "\n",
        "    def write(self, message):\n",
        "        print(f\"[debug]: {message}\")\n",
        "        "
      ]
    },
    {
      "cell_type": "code",
      "execution_count": 13,
      "id": "96d8eca8-48a4-49b7-b39a-e2e55fbd85ea",
      "metadata": {
        "trusted": true
      },
      "outputs": [],
      "source": [
        "info_logger = InfoLogger(ErrorLogger(DebugLogger()))"
      ]
    },
    {
      "cell_type": "code",
      "execution_count": 14,
      "id": "d692ab40-4640-4b7c-895c-c6129399d61c",
      "metadata": {
        "trusted": true
      },
      "outputs": [
        {
          "name": "stdout",
          "output_type": "stream",
          "text": [
            "[error]: This is an error message\n"
          ]
        }
      ],
      "source": [
        "info_logger.log_message(\"This is an error message\", 2)"
      ]
    },
    {
      "cell_type": "code",
      "execution_count": null,
      "id": "2c86594f-849c-4ec1-8bd4-3f83e11bf5ea",
      "metadata": {
        "trusted": true
      },
      "outputs": [],
      "source": []
    }
  ],
  "metadata": {
    "kernelspec": {
      "display_name": "Python (Pyodide)",
      "language": "python",
      "name": "python"
    },
    "language_info": {
      "codemirror_mode": {
        "name": "python",
        "version": 3
      },
      "file_extension": ".py",
      "mimetype": "text/x-python",
      "name": "python",
      "nbconvert_exporter": "python",
      "pygments_lexer": "ipython3",
      "version": "3.8"
    }
  },
  "nbformat": 4,
  "nbformat_minor": 5
}
