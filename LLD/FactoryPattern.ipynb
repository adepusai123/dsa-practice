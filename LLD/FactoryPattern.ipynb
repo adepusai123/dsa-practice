{
  "metadata": {
    "kernelspec": {
      "name": "python",
      "display_name": "Python (Pyodide)",
      "language": "python"
    },
    "language_info": {
      "codemirror_mode": {
        "name": "python",
        "version": 3
      },
      "file_extension": ".py",
      "mimetype": "text/x-python",
      "name": "python",
      "nbconvert_exporter": "python",
      "pygments_lexer": "ipython3",
      "version": "3.8"
    }
  },
  "nbformat_minor": 5,
  "nbformat": 4,
  "cells": [
    {
      "id": "2f363ebd-2d70-4790-9141-fddf3df4af5b",
      "cell_type": "code",
      "source": "'''  \n    he Factory Pattern is a creational design pattern that provides an interface to create objects \n    without specifying their exact class. \n    This helps encapsulate the object creation logic and promotes loose coupling in the code. \n'''\nfrom abc import ABC, abstractmethod\n\n#class Product interface\nclass Pizza(ABC):\n    @abstractmethod\n    def prepare(self):\n        pass\n        \n    @abstractmethod\n    def bake(self):\n        pass\n\n    @abstractmethod\n    def cut(self):\n        pass\n\n\n# concrete Product 1\nclass CheezePizza(Pizza):\n    def prepare(self):\n        return \"Cheeze Pizza prepation in progress\"\n\n    def bake(self):\n        return \"Cheeze Pizza baking started\"\n\n    def cut(self):\n        return \"Cheeze Pizza cutting\"\n\n\n#concrete Product 2\nclass VeggiePizza(Pizza):\n    \n    def prepare(self):\n        return \"VeggiePizza preparation in progress\"\n\n    def baoke(self):\n        return \"Veggie Pizza baking started\"\n\n    def cut(self):\n        return \"Cheeze Piza Cutting\"\n\n\n#Pizza Factory\nclass PizzaFactory:\n    def create_pizza(pizza_type):\n        if pizza_type == \"cheese\":\n            return CheezePizza()\n\n        elif pizza_type == 'veggie':\n            return VeggiePizza()\n\n        else:\n            raise ValueError('Unknown pizza')\n\n\n    ",
      "metadata": {
        "trusted": true
      },
      "outputs": [],
      "execution_count": 8
    },
    {
      "id": "4a98ddac-85a3-4d96-87f1-49f43fb88329",
      "cell_type": "code",
      "source": "cp=PizzaFactory.create_pizza('cheese')",
      "metadata": {
        "trusted": true
      },
      "outputs": [],
      "execution_count": 9
    },
    {
      "id": "0553201a-e2c7-4b69-b2c5-5adc54b21078",
      "cell_type": "code",
      "source": "cp.prepare()\n",
      "metadata": {
        "trusted": true
      },
      "outputs": [
        {
          "execution_count": 11,
          "output_type": "execute_result",
          "data": {
            "text/plain": "'Cheeze Pizza prepation in progress'"
          },
          "metadata": {}
        }
      ],
      "execution_count": 11
    },
    {
      "id": "8c150396-f95d-4d95-8478-2127edaa8d58",
      "cell_type": "code",
      "source": "cp.bake()\n",
      "metadata": {
        "trusted": true
      },
      "outputs": [
        {
          "execution_count": 13,
          "output_type": "execute_result",
          "data": {
            "text/plain": "'Cheeze Pizza baking started'"
          },
          "metadata": {}
        }
      ],
      "execution_count": 13
    },
    {
      "id": "5b82d0ad-6c44-46c3-86ed-474d4d500ac0",
      "cell_type": "code",
      "source": "cp.cut()",
      "metadata": {
        "trusted": true
      },
      "outputs": [
        {
          "execution_count": 14,
          "output_type": "execute_result",
          "data": {
            "text/plain": "'Cheeze Pizza cutting'"
          },
          "metadata": {}
        }
      ],
      "execution_count": 14
    },
    {
      "id": "7ddc912a-1f03-493b-8087-0adea2bcf6e6",
      "cell_type": "code",
      "source": "",
      "metadata": {
        "trusted": true
      },
      "outputs": [],
      "execution_count": null
    }
  ]
}