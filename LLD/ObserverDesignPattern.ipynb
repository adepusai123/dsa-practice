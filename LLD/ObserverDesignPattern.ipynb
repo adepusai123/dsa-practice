{
  "metadata": {
    "kernelspec": {
      "name": "python",
      "display_name": "Python (Pyodide)",
      "language": "python"
    },
    "language_info": {
      "codemirror_mode": {
        "name": "python",
        "version": 3
      },
      "file_extension": ".py",
      "mimetype": "text/x-python",
      "name": "python",
      "nbconvert_exporter": "python",
      "pygments_lexer": "ipython3",
      "version": "3.8"
    }
  },
  "nbformat_minor": 5,
  "nbformat": 4,
  "cells": [
    {
      "id": "ca9c4781-9866-408f-bf16-c650b68c7f17",
      "cell_type": "code",
      "source": "'''\n    The Observer Design Pattern \n    allows an object (called the subject) to notify multiple other objects (called observers) about changes in its state. \n    It is commonly used in event-driven programming, \n    such as implementing a \"Notify Me\" feature for a sale.\n'''\nfrom abc import ABC, abstractmethod\n\n# Subject ( Observable ) interface\nclass Subject(ABC):\n    def attach(self, observer):\n        pass\n\n    def detach(self, observer):\n        pass\n\n    def notify(self):\n        pass\n\n\n# Observer Interface\nclass Observer(ABC):\n    def update(self, on_sale):\n        pass\n\n# Concrete Subject\nclass Store(Subject):\n    def __init__(self):\n        self.observers = []\n        self.on_sale = False\n\n    def attach(self, observer):\n        self.observers.append(observer)\n        print(f\"{observer.name} has subscribed for notifications\")\n\n    def detach(self, observer):\n        self.observers.remove(observer)\n        print(f\"{observer.name} has unsubscribed\")\n\n    def notify(self):\n        for observer in self.observers:\n            observer.update(self.on_sale)\n            \n    def start_sale(self):\n        print('Sales has been started')\n        self.on_sale = True\n        self.notify()\n\n    def end_sale(self):\n        print('Sales has been ended')\n        self.on_sale = False\n        self.notify()\n\n# Concrete Observer\nclass Customer(Observer):\n    def __init__(self, name):\n        self.name = name\n\n    def update(self, on_sale):\n        if on_sale:\n            print(f\"{self.name}, the sale has been started, Shop Now\")\n        else:\n            print(f\"{self.name}, the sale has been ended now.\")\n              \n        ",
      "metadata": {
        "trusted": true
      },
      "outputs": [],
      "execution_count": 3
    },
    {
      "id": "91345db8-a9c4-4130-84e0-363dbc72e6db",
      "cell_type": "code",
      "source": "# store object\nstore = Store()\n\n#customer object (observer)\nc1 = Customer(name='Sai')\nc2 = Customer(name='Kumar')\nc3 = Customer(name='Adepu')\n\n#C1, c2 are subscribed for sales\n\nstore.attach(c1)\nstore.attach(c2)\n\n#sales started\nstore.start_sale()\nstore.detach(c2)\nstore.end_sale()",
      "metadata": {
        "trusted": true
      },
      "outputs": [
        {
          "name": "stdout",
          "output_type": "stream",
          "text": "Sai has subscribed for notifications\nKumar has subscribed for notifications\nSales has been started\nSai, the sale has been started, Shop Now\nKumar, the sale has been started, Shop Now\nKumar has unsubscribed\nSales has been ended\nSai, the sale has been ended now.\n"
        }
      ],
      "execution_count": 11
    },
    {
      "id": "0f43ba75-a2dd-4272-ae55-099edcf8168d",
      "cell_type": "code",
      "source": "",
      "metadata": {
        "trusted": true
      },
      "outputs": [],
      "execution_count": null
    }
  ]
}