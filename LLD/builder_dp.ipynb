{
  "metadata": {
    "kernelspec": {
      "name": "python",
      "display_name": "Python (Pyodide)",
      "language": "python"
    },
    "language_info": {
      "codemirror_mode": {
        "name": "python",
        "version": 3
      },
      "file_extension": ".py",
      "mimetype": "text/x-python",
      "name": "python",
      "nbconvert_exporter": "python",
      "pygments_lexer": "ipython3",
      "version": "3.8"
    }
  },
  "nbformat_minor": 5,
  "nbformat": 4,
  "cells": [
    {
      "id": "c4277c23-2d10-47ae-905f-953d7d10732f",
      "cell_type": "code",
      "source": "'''\nThe Builder Design Pattern is a structural pattern that allows constructing a complex object step by step. \nIt provides a way to construct an object by specifying the type and content of the object, while hiding the construction process from the client. \nThis pattern is particularly useful when an object needs to be created with many possible configurations, or when the construction process is complex.\n\nComponents of the Builder Pattern:\n1. Product: The complex object that is to be built.\n2. Builder: Abstract interface for building parts of a Product.\n3. ConcreteBuilder: A class that implements the Builder interface to construct and assemble parts of the product.\n4. Director: A class responsible for managing the construction process. It uses a Builder to create a product.\n5. Client: The class that uses the Director to construct the product.\n'''\n\n#Product\nclass Car:\n    def __init__(self):\n        self.engine = None\n        self.wheels = None\n        self.seats = None\n        self.sunroof = None\n\n    def set_engine(self, engine):\n        self.engine = engine\n\n    def set_wheels(self, wheels):\n        self.wheels = wheels\n\n    def set_seats(self, seats):\n        self.seats = seats\n\n    def set_sunroof(self, sunroof):\n        self.sunroof = sunroof\n\n    def __str__(self):\n        return f\"Car [Engine: {self.engine}, Wheels: {self.wheels}, Seats: {self.seats}, Sunroof: {self.sunroof}]\"\n\n# Builder Interface\nclass CarBuilder:\n    def build_engine(self, engine):\n        pass\n\n    def build_wheels(self, wheels):\n        pass\n\n    def build_seats(self, seats):\n        pass\n\n    def build_sunroof(self, sunroof):\n        pass\n\n    def get_car(self):\n        pass\n\n# Concrete Car Builder\nclass ConcreteCarBuilder(CarBuilder):\n    def __init__(self):\n        self.car = Car()\n\n    def build_engine(self, engine):\n        self.car.set_engine(engine)\n\n    def build_wheels(self, wheels):\n        self.car.set_wheels(wheels)\n\n    def build_seats(self, seats):\n        self.car.set_seats(seats)\n\n    def build_sunroof(self,sunroof):\n        self.car.set_sunroof(sunroof)\n\n    def get_car(self):\n        return self.car\n\n\n# Director\nclass CarDirector:\n    def __init__(self,builder):\n        self.builder = builder\n\n    def construct_sports_car(self):\n        self.builder.build_engine(\"V8\")\n        self.builder.build_wheels(4)\n        self.builder.build_seats(2)\n        self.builder.build_sunroof(True)\n        return self.builder.get_car()\n\n    def construct_family_car(self):\n        self.builder.build_engine(\"V6\")\n        self.builder.build_wheels(4)\n        self.builder.build_seats(5)\n        self.builder.build_sunroof(False)\n        return self.builder.get_car()\n\n\n# client\n\nif __name__ == \"__main__\":\n    builder = ConcreteCarBuilder()\n    director = CarDirector(builder)\n\n     # Build a Sports Car\n    sports_car = director.construct_sports_car()\n    print(\"Sports Car:\", sports_car)\n\n    # Build a Family Car\n    family_car = director.construct_family_car()\n    print(\"Family Car:\", family_car)\n\n    \n        \n        ",
      "metadata": {
        "trusted": true
      },
      "outputs": [
        {
          "name": "stdout",
          "output_type": "stream",
          "text": "Sports Car: Car [Engine: V8, Wheels: 4, Seats: 2, Sunroof: True]\nFamily Car: Car [Engine: V6, Wheels: 4, Seats: 5, Sunroof: False]\n"
        }
      ],
      "execution_count": 2
    },
    {
      "id": "33625aba-71b5-48cb-b7a4-b7c7b4abfbf8",
      "cell_type": "code",
      "source": "",
      "metadata": {
        "trusted": true
      },
      "outputs": [],
      "execution_count": null
    }
  ]
}