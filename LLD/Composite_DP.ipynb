{
  "metadata": {
    "kernelspec": {
      "name": "python",
      "display_name": "Python (Pyodide)",
      "language": "python"
    },
    "language_info": {
      "codemirror_mode": {
        "name": "python",
        "version": 3
      },
      "file_extension": ".py",
      "mimetype": "text/x-python",
      "name": "python",
      "nbconvert_exporter": "python",
      "pygments_lexer": "ipython3",
      "version": "3.8"
    }
  },
  "nbformat_minor": 5,
  "nbformat": 4,
  "cells": [
    {
      "id": "9d36c0b1-fed6-4d4b-8c6d-d1942a8ac413",
      "cell_type": "code",
      "source": "'''\nThe Composite Design Pattern is a structural design pattern that allows you to compose objects into tree-like structures to represent part-whole hierarchies. \n\nIt lets clients treat individual objects and compositions of objects uniformly.\nIn simpler terms, it allows you to work with groups of objects in the same way you would work with a single object. \nIt's particularly useful when you need to represent hierarchies, like files and directories in a file system.\n\nKey Components of Composite Design Pattern:\nComponent: This is an interface or abstract class defining the common operations for both leaf and composite objects.\nLeaf: These are the individual objects that do not have any children (e.g., a simple file in a file system).\nComposite: This class is made up of child components (which could be leaves or other composites). It implements operations for adding and removing children.\n'''\n\nfrom abc import ABC, abstractmethod\n\n# Component\nclass Employee:\n    @abstractmethod\n    def show_details(self):\n        pass\n\n#leaf\nclass Developer(Employee):\n    def __init__(self, name, position):\n        self.name = name\n        self.position = position\n\n    def show_details(self):\n        print(f\"Developer: {self.name} Position is: {self.position}\")\n\n#leaf\nclass Designer(Employee):\n    def __init__(self, name, position):\n        self.name = name\n        self.position = position\n\n    def show_details(self):\n        print(f\"Designer: {self.name} Position is: {self.position}\")\n\n\n#Composite\nclass Manager(Employee):\n    def __init__(self, name, position):\n        self.name = name\n        self.position = position\n        self.subordinates = []\n\n    def add(self, employee):\n        self.subordinates.append(employee)\n\n    def remove(self, employee):\n        self.subordinates.remove(employee)\n\n    def show_details(self):\n        print(f\"Manager: {self.name} Position: {self.position}. Subordinates are: \\n\")\n        for emp in self.subordinates:\n            emp.show_details()\n\n\n    ",
      "metadata": {
        "trusted": true
      },
      "outputs": [],
      "execution_count": 7
    },
    {
      "id": "9faae369-5526-480b-955f-bb010dc9b443",
      "cell_type": "code",
      "source": "dev1 = Developer('Sai','Data Engineer')\ndev2 = Developer('Kumar', 'Senior Software Engineer')\n\ndesigner = Designer('Shikha', 'UI/UX Designer')\n\nmanager = Manager('Pandu', 'Engineering Manager')\nmanager.add(dev1)\nmanager.add(dev2)\nmanager.add(designer)\n\nmanager.show_details()\n\n",
      "metadata": {
        "trusted": true
      },
      "outputs": [
        {
          "name": "stdout",
          "output_type": "stream",
          "text": "Manager: Pandu Position: Engineering Manager. Subordinates are: \n\nDeveloper: Sai Position is: Data Engineer\nDeveloper: Kumar Position is: Senior Software Engineer\nDesigner: Shikha Position is: UI/UX Designer\n"
        }
      ],
      "execution_count": 9
    },
    {
      "id": "322d2cca-a1fb-421a-887d-0dae86da5212",
      "cell_type": "code",
      "source": "manager.remove(dev2)",
      "metadata": {
        "trusted": true
      },
      "outputs": [],
      "execution_count": 10
    },
    {
      "id": "1ea92ea9-6ce8-42d8-a88c-615ce1125da7",
      "cell_type": "code",
      "source": "manager.show_details()",
      "metadata": {
        "trusted": true
      },
      "outputs": [
        {
          "name": "stdout",
          "output_type": "stream",
          "text": "Manager: Pandu Position: Engineering Manager. Subordinates are: \n\nDeveloper: Sai Position is: Data Engineer\nDesigner: Shikha Position is: UI/UX Designer\n"
        }
      ],
      "execution_count": 11
    },
    {
      "id": "d5ab98e9-f10d-451e-8c42-4212e4232f72",
      "cell_type": "code",
      "source": "",
      "metadata": {
        "trusted": true
      },
      "outputs": [],
      "execution_count": null
    }
  ]
}