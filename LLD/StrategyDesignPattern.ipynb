{
  "metadata": {
    "kernelspec": {
      "name": "python",
      "display_name": "Python (Pyodide)",
      "language": "python"
    },
    "language_info": {
      "codemirror_mode": {
        "name": "python",
        "version": 3
      },
      "file_extension": ".py",
      "mimetype": "text/x-python",
      "name": "python",
      "nbconvert_exporter": "python",
      "pygments_lexer": "ipython3",
      "version": "3.8"
    }
  },
  "nbformat_minor": 5,
  "nbformat": 4,
  "cells": [
    {
      "id": "a61ddba9-50e3-42d1-ad69-82b6e4528002",
      "cell_type": "code",
      "source": "'''\nStrategy Design Pattern:\n     The Strategy Design Pattern defines a family of algorithms, \n     encapsulates each one, and makes them interchangeable. \n     This allows the behavior of a class to be selected at runtime.**\n'''\n# Base Interface\nclass PaymentStrategy():\n    def pay(self, amount):\n        pass\n\nclass CreditPaymentStrategy(PaymentStrategy):\n    def __init__(self, cardNo):\n        self.cardNo = cardNo\n\n    def pay(self, amount):\n        return f\"Paid {amount} from credit card no ends with {self.cardNo[-4:]}.\"\n\nclass UPIPaymentStrategy(PaymentStrategy):\n    def __init__(self, upi):\n        self.upi = upi\n\n    def pay(self, amount):\n        return f\"Paid {amount} from upi address {self.upi}\"\n\n\n#client\nclass ShoppingCart:\n    def __init__(self):\n        self.items= []\n        self.total_amount = 0\n\n    def add_item(self, item, amount):\n        self.items.append(item)\n        self.total_amount += amount\n\n    def checkout(self, paymentStrategy: PaymentStrategy):\n        print(paymentStrategy.pay(self.total_amount))\n",
      "metadata": {
        "trusted": true
      },
      "outputs": [],
      "execution_count": 2
    },
    {
      "id": "16cca1bd-5a1b-43e4-bfe0-3f239eb79c4a",
      "cell_type": "code",
      "source": "cart = ShoppingCart()",
      "metadata": {
        "trusted": true
      },
      "outputs": [],
      "execution_count": 3
    },
    {
      "id": "b56f2a33-cfcc-4330-9499-4f6b91061b27",
      "cell_type": "code",
      "source": "cart.add_item('BCA', 200)",
      "metadata": {
        "trusted": true
      },
      "outputs": [],
      "execution_count": 5
    },
    {
      "id": "240bd735-86cd-4400-b3be-f2f2efa317c2",
      "cell_type": "code",
      "source": "cart.total_amount",
      "metadata": {
        "trusted": true
      },
      "outputs": [
        {
          "execution_count": 6,
          "output_type": "execute_result",
          "data": {
            "text/plain": "300"
          },
          "metadata": {}
        }
      ],
      "execution_count": 6
    },
    {
      "id": "5738f227-c329-41f9-937e-a680f14daa13",
      "cell_type": "code",
      "source": "cc = CreditPaymentStrategy(cardNo='12367689')",
      "metadata": {
        "trusted": true
      },
      "outputs": [],
      "execution_count": 7
    },
    {
      "id": "0539fc79-ae96-488a-8d8d-35e8601a2ba5",
      "cell_type": "code",
      "source": "cart.checkout(cc)",
      "metadata": {
        "trusted": true
      },
      "outputs": [
        {
          "name": "stdout",
          "output_type": "stream",
          "text": "Paid 300 from credit card no ends with 7689.\n"
        }
      ],
      "execution_count": 8
    },
    {
      "id": "f6e90f96-188e-4a7c-9c46-c2954f0429b3",
      "cell_type": "code",
      "source": "",
      "metadata": {
        "trusted": true
      },
      "outputs": [],
      "execution_count": null
    }
  ]
}