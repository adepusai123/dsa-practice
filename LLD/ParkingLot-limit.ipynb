{
  "metadata": {
    "kernelspec": {
      "name": "python",
      "display_name": "Python (Pyodide)",
      "language": "python"
    },
    "language_info": {
      "codemirror_mode": {
        "name": "python",
        "version": 3
      },
      "file_extension": ".py",
      "mimetype": "text/x-python",
      "name": "python",
      "nbconvert_exporter": "python",
      "pygments_lexer": "ipython3",
      "version": "3.8"
    }
  },
  "nbformat_minor": 5,
  "nbformat": 4,
  "cells": [
    {
      "id": "ca0365c6-1c04-45f9-b780-bb6c49b08218",
      "cell_type": "code",
      "source": "'''\n    Parking Lot Problem\n    1. the parking lot has a limited number of parking spots\n    2. Vehicles can enter or leave the parking lot based on availablity \n    3. When a vehicle leaves, its parking spot becomes available for another vehcile\n'''\n\nclass ParkingLot:\n    def __init__(self, total_space_2w, total_space_4w):\n        self.total_space_2w = total_space_2w\n        self.total_space_4w = total_space_4w\n        self.parking_space_2w = [None] * total_space_2w\n        self.parking_space_4w = [None] * total_space_4w\n        self.vehicles_2w = set()\n        self.vehicles_4w = set()\n\n    def park_vehicle(self, vehicle_id, vehicle_type):\n        if vehicle_type =='2w':\n            if vehicle_id in self.vehicles_2w:\n                print(f\"Vehicle {vehicle_id} is already parked \")\n            for i in range(self.total_space_2w):\n                if self.parking_space_2w[i] is None:\n                    self.parking_space_2w[i] = vehicle_id\n                    self.vehicles_2w.add(vehicle_id)\n                    print(f\"Vehicle {vehicle_id} is parked at {i}\")\n                    return True\n            print(f\"2-wheeler parking space is full\")\n            return False\n        elif vehicle_type == '4w':\n            if vehicle_id in self.vehicles_4w:\n                print(f\"Vehicle {vehicle_id} is already parked \")\n            for i in range(self.total_space_4w):\n                if self.parking_space_4w[i] is None:\n                    self.parking_space_4w[i] = vehicle_id\n                    self.vehicles_4w.add(vehicle_id)\n                    print(f\"4-Wheeler Vehicle {vehicle_id} is parked at {i}\")\n                    return True\n            print(f\"4-wheeler parking space is full\")\n            return False\n\n    def remove_vehicle(self, vehicle_id, vehicle_type):\n        if vehicle_type == '2w':\n            if vehicle_id in self.vehicle_2w:\n                print(f\"Vehicle {vehicle_id} is found \")\n                for i in range(self.total_space_2w):\n                    if self.parking_space_2w[i] == vehicle_id:\n                        self.parking_space_2w[i] = None\n                        self.vehicle_2w.remove(vehicle_id)\n                        print(f\"Vehicle {vehicle_id} is removed, it is ready for another vehicle\")\n                        return True\n                return False\n            print(f\"Vehicle {vehicle_id} is not found\")\n        elif vehicle_type == '4w':\n            if vehicle_id in self.vehicle_4w:\n                print(f\"Vehicle {vehicle_id} is found\")\n                for i in range(self.total_space_4w):\n                    if self.parking_space_4w[i] == vehicle_id:\n                        self.parking_space_4w[i] = None\n                        self.vehicle_4w.remove(vehicle_id)\n                        print(f\"4-w Vehicle {vehicle_id} is removed, it is ready for another vehicle\")\n                        return True\n                return False\n            print(f\"Vehicle {vehicle_id} is not found\")\n\n\n    def display_parking_lot(self):\n        print(f\"2-wheeler parking lot: \")\n        for i, vehicle in enumerate(self.parking_space_2w):\n            if self.parking_space_2w[i] is not None:\n                print(f\"\\t Vehicle {self.parking_space_2w[i]} is parked at {i}.\")\n            print(f\"Parking spot {i} is Empty\")\n\n        print(f\"4-wheeler parking lot: \")\n        for i, vehicle in enumerate(self.parking_space_4w):\n            if self.parking_space_4w[i] is not None:\n                print(f\"\\t Vehicle {self.parking_space_4w[i]} is parked at {i}.\")\n            print(f\"Parking spot {i} is Empty\")\n",
      "metadata": {
        "trusted": true
      },
      "outputs": [],
      "execution_count": 15
    },
    {
      "id": "16497240-5525-4220-bcb9-e5a644363a1f",
      "cell_type": "code",
      "source": "parking = ParkingLot(total_space_2w = 3, total_space_4w = 4)",
      "metadata": {
        "trusted": true
      },
      "outputs": [],
      "execution_count": 16
    },
    {
      "id": "33a703aa-ab0f-4bbb-925a-e3c5d57c1128",
      "cell_type": "code",
      "source": "parking.parking_space_2w",
      "metadata": {
        "trusted": true
      },
      "outputs": [
        {
          "execution_count": 17,
          "output_type": "execute_result",
          "data": {
            "text/plain": "[None, None, None]"
          },
          "metadata": {}
        }
      ],
      "execution_count": 17
    },
    {
      "id": "ecb9945c-e166-47e4-bcbb-350ac8d9b166",
      "cell_type": "code",
      "source": "parking.park_vehicle('A1234', '2w')\nparking.display_parking_lot()",
      "metadata": {
        "trusted": true
      },
      "outputs": [
        {
          "name": "stdout",
          "output_type": "stream",
          "text": "Vehicle A1234 is parked at 0\n2-wheeler parking lot: \n\t Vehicle A1234 is parked at 0.\nParking spot 0 is Empty\nParking spot 1 is Empty\nParking spot 2 is Empty\n4-wheeler parking lot: \nParking spot 0 is Empty\nParking spot 1 is Empty\nParking spot 2 is Empty\nParking spot 3 is Empty\n"
        }
      ],
      "execution_count": 18
    },
    {
      "id": "cc55bda0-22d1-461a-9cd6-a05c62948bd6",
      "cell_type": "code",
      "source": "parking.park_vehicle('B1234', '2w')\nparking.park_vehicle('C1234', '2w')\nparking.display_parking_lot()",
      "metadata": {
        "trusted": true
      },
      "outputs": [
        {
          "name": "stdout",
          "output_type": "stream",
          "text": "Vehicle B1234 is parked at 1\nVehicle C1234 is parked at 2\n2-wheeler parking lot: \n\t Vehicle A1234 is parked at 0.\nParking spot 0 is Empty\n\t Vehicle B1234 is parked at 1.\nParking spot 1 is Empty\n\t Vehicle C1234 is parked at 2.\nParking spot 2 is Empty\n4-wheeler parking lot: \nParking spot 0 is Empty\nParking spot 1 is Empty\nParking spot 2 is Empty\nParking spot 3 is Empty\n"
        }
      ],
      "execution_count": 19
    },
    {
      "id": "d0037fd3-2d31-49b1-872e-579f8161cb14",
      "cell_type": "code",
      "source": "parking.park_vehicle('D1234', '2w')",
      "metadata": {
        "trusted": true
      },
      "outputs": [
        {
          "name": "stdout",
          "output_type": "stream",
          "text": "2-wheeler parking space is full\n"
        },
        {
          "execution_count": 20,
          "output_type": "execute_result",
          "data": {
            "text/plain": "False"
          },
          "metadata": {}
        }
      ],
      "execution_count": 20
    },
    {
      "id": "76592522-5a63-4574-90c3-d51cc6d93dc7",
      "cell_type": "code",
      "source": "",
      "metadata": {
        "trusted": true
      },
      "outputs": [],
      "execution_count": null
    }
  ]
}