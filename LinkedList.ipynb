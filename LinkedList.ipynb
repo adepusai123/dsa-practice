{
  "metadata": {
    "kernelspec": {
      "name": "python",
      "display_name": "Python (Pyodide)",
      "language": "python"
    },
    "language_info": {
      "codemirror_mode": {
        "name": "python",
        "version": 3
      },
      "file_extension": ".py",
      "mimetype": "text/x-python",
      "name": "python",
      "nbconvert_exporter": "python",
      "pygments_lexer": "ipython3",
      "version": "3.8"
    }
  },
  "nbformat_minor": 4,
  "nbformat": 4,
  "cells": [
    {
      "cell_type": "code",
      "source": "class Node:\n    def __init__(self, data):\n        self.data = data\n        self.next = None\n        \n    def getData(self):\n        return self.data\n\n    def setData(self, data):\n        self.data = data\n\n    def getNext(self):\n        return self.next\n\n    def setNext(self,_next):\n        self.next = _next\n        ",
      "metadata": {
        "trusted": true
      },
      "outputs": [],
      "execution_count": 1
    },
    {
      "cell_type": "code",
      "source": "class LinkedList:\n    def __init__(self):\n        self.head = None\n        self.tail = None\n\n    def getHead(self):\n        return self.head\n\n    def getTail(self):\n        return self.tail\n\n    def add_at_end(self, data):\n        new_node = Node(data)\n        if self.head == None:\n            self.head = self.tail = new_node\n        else:\n            self.tail.setNext(new_node)\n            self.tail = new_node\n\n    def add_at_begining(self, data):\n        new_node = Node(data)\n        if self.head == None:\n            self.head = self.tail = new_node\n        else:\n            new_node.setNext(self.head)\n            self.head= new_node\n\n    def insert(self, new_data, data_before): # insert in between \n        new_node = Node(new_data)\n        print('DAta',  new_data)\n        if self.head == None:\n            self.head = self.tail = new_node\n        else:\n            node = self.findNode(data_before)\n            if node is not None:\n                new_node.setNext(node.getNext())\n                node.setNext(node.getNext())\n                if node == self.tail:\n                    self.tail = new_node\n            else:\n                print (\"DataBefore Node not found\")\n\n\n    def display(self):\n        temp = self.head\n        while(temp is not None):\n            print(temp.getData())\n            temp = temp.getNext()\n\n\n    def findNode(self,data):\n        temp = self.head\n        while(temp is not None):\n            if temp.getData() == data:\n                return temp\n            temp = temp.getNext()\n        return None\n\n    def delete(self,data):\n        temp = self.head\n        if temp is None:\n            print ('List is empty')\n        else:\n            node = self.findNode(data)\n            if node is None:\n                print('Data is not found')\n            elif node == self.head:\n                self.head = self.head.getNext()\n                node.setNext(None)\n                if node == self.tail:\n                    self.tail = None\n            else:\n                node_before = None\n                temp = self.head\n                while (temp is not None):\n                    if temp.getNext() == None:\n                        nonde_before = temp\n                        break\n                    temp = temp.getNext()\n\n                node_before.setNext(node.getNext())\n                if node == self.tail:\n                    self.tail = node_before\n                node.setNext(None)\n\n        ",
      "metadata": {
        "trusted": true
      },
      "outputs": [],
      "execution_count": 51
    },
    {
      "cell_type": "code",
      "source": "linkedList = LinkedList()\nlinkedList.add_at_end(\"Jose\")\nlinkedList.display()\nlinkedList.add_at_end(\"steeve\")\n",
      "metadata": {
        "trusted": true
      },
      "outputs": [
        {
          "name": "stdout",
          "text": "Jose\n",
          "output_type": "stream"
        }
      ],
      "execution_count": 52
    },
    {
      "cell_type": "code",
      "source": "if linkedList.findNode(\"steeve\") is not None:\n    print('Node found')\nelse: \n    print('not found')\n    ",
      "metadata": {
        "trusted": true
      },
      "outputs": [
        {
          "name": "stdout",
          "text": "Node found\n",
          "output_type": "stream"
        }
      ],
      "execution_count": 53
    },
    {
      "cell_type": "code",
      "source": "linkedList.add_at_begining(\"sai\")\nlinkedList.insert( \"Rebecca\",'steeve')\n",
      "metadata": {
        "trusted": true
      },
      "outputs": [
        {
          "name": "stdout",
          "text": "DAta Rebecca\n",
          "output_type": "stream"
        }
      ],
      "execution_count": 55
    },
    {
      "cell_type": "code",
      "source": "linkedList.display()",
      "metadata": {
        "trusted": true
      },
      "outputs": [
        {
          "name": "stdout",
          "text": "sai\nsai\nJose\nsteeve\n",
          "output_type": "stream"
        }
      ],
      "execution_count": 56
    },
    {
      "cell_type": "code",
      "source": "",
      "metadata": {
        "trusted": true
      },
      "outputs": [],
      "execution_count": null
    }
  ]
}