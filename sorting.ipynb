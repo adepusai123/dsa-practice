{
  "metadata": {
    "kernelspec": {
      "name": "python",
      "display_name": "Python (Pyodide)",
      "language": "python"
    },
    "language_info": {
      "codemirror_mode": {
        "name": "python",
        "version": 3
      },
      "file_extension": ".py",
      "mimetype": "text/x-python",
      "name": "python",
      "nbconvert_exporter": "python",
      "pygments_lexer": "ipython3",
      "version": "3.8"
    }
  },
  "nbformat_minor": 4,
  "nbformat": 4,
  "cells": [
    {
      "cell_type": "code",
      "source": "# Bubble sort , always iteration count is n -1 times, O(n^2) \n''' Example: 4, 1, 5, 2, 3 \n    i = 0 ; => 4 => n - i - 1  pattern\n    2 pointer approache '''\ndef bubblesort(arr):\n    n = len(arr)\n    for i in range(n):\n        swapped = False\n        for j in range(0, n-i-1):\n            if arr[j] > arr[j+1]:\n                arr[j], arr[j+1] =  arr[j+1], arr[j]\n                swapped = True\n        if not swapped:\n            break\n    return arr\n\nbubblesort([4,1,5,2,3])",
      "metadata": {
        "trusted": true
      },
      "outputs": [
        {
          "execution_count": 4,
          "output_type": "execute_result",
          "data": {
            "text/plain": "[1, 2, 3, 4, 5]"
          },
          "metadata": {}
        }
      ],
      "execution_count": 4
    },
    {
      "cell_type": "code",
      "source": "# Selection Sort [soted arr, unsorted arr], n-1 iterations, find small element from unsorted then swap with sorted arr last elemt\n''' Example: 4, 1, 5, 2, 3 , O(n^2)\n    2 pointer approache '''\n\ndef selectionsort(arr):\n    n = len(arr)\n\n    for i in range(n):\n        min_index = i\n        for j in range(i+1, n):\n            if arr[j] < arr[min_index]:\n                arr[j] , arr[min_index]=  arr[min_index], arr[j] \n    return arr\n\nselectionsort([4,1,5,2,3])",
      "metadata": {
        "trusted": true
      },
      "outputs": [
        {
          "execution_count": 7,
          "output_type": "execute_result",
          "data": {
            "text/plain": "[1, 2, 3, 4, 5]"
          },
          "metadata": {}
        }
      ],
      "execution_count": 7
    },
    {
      "cell_type": "code",
      "source": "# insertion sort:  [ soted arr, unsorted arr], n-1 iterations \n''' unsorted array 1st index compare with sorted array elements if required swapp elements \n    starts from  i = 1, since 0 index element treated as sorted arr O(n^2)\n'''\n\ndef insertionsort(arr):\n    n  = len(arr)\n    for i in range(1, n):\n        curr = arr[i]\n        prev = i - 1\n        while prev >= 0 and arr[prev] > curr:\n            arr[prev + 1] = arr[prev]\n            prev -= 1\n        arr[prev + 1] = curr\n    return arr\n\ninsertionsort([4,1,5,2,3])\n    \n",
      "metadata": {
        "trusted": true
      },
      "outputs": [
        {
          "execution_count": 10,
          "output_type": "execute_result",
          "data": {
            "text/plain": "[1, 2, 3, 4, 5]"
          },
          "metadata": {}
        }
      ],
      "execution_count": 10
    },
    {
      "cell_type": "code",
      "source": "# Quick sort,  O(n^2), choose last ele as pivot  S =  O(log n)\n\ndef quicksort(arr):\n    n = len(arr)\n    if n <= 1:\n        return arr\n\n    pivot = arr[-1] # choosing last index\n\n    # partition the array : less than pivot m greater than pivot\n    left = [x for x in arr[:-1] if x <= pivot]\n    right = [ x for x in arr[:-1] if x > pivot]\n\n    # Recurrsive fn, Divide and conqure approach\n    return quicksort(left) + [pivot]+ quicksort(right)\n\nquicksort([4,1,5,2,3])",
      "metadata": {
        "trusted": true
      },
      "outputs": [
        {
          "execution_count": 11,
          "output_type": "execute_result",
          "data": {
            "text/plain": "[1, 2, 3, 4, 5]"
          },
          "metadata": {}
        }
      ],
      "execution_count": 11
    },
    {
      "cell_type": "code",
      "source": "#  Merge sort, mid = low + high // 2\n\ndef mergesort(arr):\n    n = len(arr)\n    if n<= 1:\n        return arr\n\n    mid = n // 2\n\n    left = mergesort(arr[:mid])\n    right = mergesort(arr[mid:])\n\n    return merge(left, right)\n\ndef merge(left, right):\n    result = []\n    i = j = 0\n\n    # Merge two sorted arrays\n    while i < len(left) and j < len(right):\n        if left[i] < right [j]:\n            result.append(left[i])\n            i += 1\n        else:\n            result.append(right[j])\n            j += 1\n    result.extend(left[i:])\n    result.extend(right[j:])\n\n    return result\n\n\nmergesort([4,1,5,2,3])",
      "metadata": {
        "trusted": true
      },
      "outputs": [
        {
          "execution_count": 17,
          "output_type": "execute_result",
          "data": {
            "text/plain": "[1, 2, 3, 4, 5]"
          },
          "metadata": {}
        }
      ],
      "execution_count": 17
    },
    {
      "cell_type": "code",
      "source": "# Heap Sort algorithm O(nlogn), S: O(1)\n\n''' We need to know about Max-Heap and min-heap concepts for this\n    Max-heap: parent node always higher than child nodes\n    min-heap: parent node always smaller than child node\n    first => builds a max-heap, then repeatedly extracts the maximum elements (the root) and places it in the sorted portion or array\n'''\n\ndef heapify(arr, n , i):\n    largest = i; #init largest as root\n    left = 2 * i  + 1 # left child\n    right = 2 * i + 2 # right child\n\n    # if left child is larger than root\n    if left < n and arr[left] > arr[largest]:\n        largest = left\n\n    # if right child is greater than largest so far\n    if right < n and arr[right] < arr[largest]:\n        largest = right\n\n    # if largest is not root\n    if largest != i:\n        arr[i], arr[largest] = arr[largest], arr[i] #swap\n        heapify(arr, n, largest) # recursive \n\ndef heapsort(arr):\n    n = len(arr)\n\n# Build max-heap\n    for i in range(n // 2 - 1, -1, -1):\n        heapify(arr,n,i)\n\n    # One by one extract elements from the heap\n    for i in range(n-1, 0, -1):\n        arr[i], arr[0] = arr[0], arr[i] # swap root and the last elemt\n        heapify(arr, i , 0) # heapify the root ele\n\n    return arr\n\nheapsort([4,1,5,2,3])",
      "metadata": {
        "trusted": true
      },
      "outputs": [
        {
          "execution_count": 18,
          "output_type": "execute_result",
          "data": {
            "text/plain": "[1, 5, 2, 3, 4]"
          },
          "metadata": {}
        }
      ],
      "execution_count": 18
    },
    {
      "cell_type": "code",
      "source": "",
      "metadata": {
        "trusted": true
      },
      "outputs": [],
      "execution_count": null
    }
  ]
}