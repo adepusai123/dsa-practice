{
 "cells": [
  {
   "cell_type": "code",
   "execution_count": 1,
   "id": "575cb9c6-53b5-47e5-98d2-0c2bcd921e01",
   "metadata": {},
   "outputs": [],
   "source": [
    "cards = [13, 11,12,7,4,3,1,0]\n",
    "query = 7"
   ]
  },
  {
   "cell_type": "code",
   "execution_count": 27,
   "id": "41642a6f-52da-4c80-9cab-f2491b437deb",
   "metadata": {},
   "outputs": [],
   "source": [
    "# linear search\n",
    "def find_card(cards, query):\n",
    "    position = 0\n",
    "    if len(cards) == 0:\n",
    "        return -1;\n",
    "    while True:\n",
    "        print( cards[position], query)\n",
    "        if cards[position] == query:\n",
    "            return position\n",
    "        position += 1\n",
    "        if position == len(cards):\n",
    "            return -1"
   ]
  },
  {
   "cell_type": "code",
   "execution_count": 28,
   "id": "7f7fd507-d776-4c51-bc21-7890f96e0c25",
   "metadata": {},
   "outputs": [
    {
     "name": "stdout",
     "output_type": "stream",
     "text": [
      "14 12\n",
      "13 12\n",
      "12 12\n"
     ]
    },
    {
     "data": {
      "text/plain": [
       "2"
      ]
     },
     "execution_count": 28,
     "metadata": {},
     "output_type": "execute_result"
    }
   ],
   "source": [
    "cards = [14, 13,12,12,12,7,4,3,1,0]\n",
    "query = 12\n",
    "find_card(cards, query)"
   ]
  },
  {
   "cell_type": "code",
   "execution_count": null,
   "id": "c11b7dc5-edc1-43a3-b24f-16c1ba857c00",
   "metadata": {},
   "outputs": [],
   "source": [
    "query= 13"
   ]
  },
  {
   "cell_type": "code",
   "execution_count": null,
   "id": "afdc7f72-3734-42e5-9cd4-7cd91b9c8e23",
   "metadata": {},
   "outputs": [],
   "source": [
    "cards"
   ]
  },
  {
   "cell_type": "code",
   "execution_count": null,
   "id": "a22b9cd5-85c5-4677-8547-368606c3890c",
   "metadata": {},
   "outputs": [],
   "source": [
    "find_card(cards, query)"
   ]
  },
  {
   "cell_type": "code",
   "execution_count": null,
   "id": "940c2ae6-a2c0-46cb-a2c9-fd2f6d476390",
   "metadata": {},
   "outputs": [],
   "source": [
    "query=0"
   ]
  },
  {
   "cell_type": "code",
   "execution_count": null,
   "id": "621f273f-79d6-4031-a006-909c416f0475",
   "metadata": {},
   "outputs": [],
   "source": [
    "len(cards)"
   ]
  },
  {
   "cell_type": "code",
   "execution_count": null,
   "id": "58538257-adfe-4738-87ee-4445696e17b8",
   "metadata": {},
   "outputs": [],
   "source": [
    "find_card(cards, query)"
   ]
  },
  {
   "cell_type": "code",
   "execution_count": null,
   "id": "bf6450ea-fa3c-42d6-abce-49b74f1c5120",
   "metadata": {},
   "outputs": [],
   "source": [
    "#  linear search\n",
    "def find_card(cards, query):\n",
    "    position = 0\n",
    "    while position < len(cards):\n",
    "        if cards[position] == query:\n",
    "            return position\n",
    "        position += 1\n",
    "    return -1"
   ]
  },
  {
   "cell_type": "code",
   "execution_count": 29,
   "id": "4a8e1997-1bfb-4b47-8034-a299db30d562",
   "metadata": {},
   "outputs": [],
   "source": [
    "# Binary search \n",
    "# return wrong ans for 14, 13, 12, 12, 12, 7, 4, 3, 1, 0] as 4, but exp is 2\n",
    "def find_card_bs(cards, query):\n",
    "    low = 0\n",
    "    high = len(cards) - 1\n",
    "    while low <= high:\n",
    "        mid = (low + high) // 2;\n",
    "        if cards[mid] == query:\n",
    "            print('match', mid, query)\n",
    "            return mid\n",
    "        elif cards[mid] < query:\n",
    "            low = mid + 1\n",
    "            mid = (low + high) // 2\n",
    "            print( 'lower', low, mid, query)\n",
    "        elif cards[mid] > query:\n",
    "            high = mid + 1\n",
    "            mid = (low + high) // 2\n",
    "            print( 'high', low, mid, query)\n",
    "    return -1"
   ]
  },
  {
   "cell_type": "code",
   "execution_count": 32,
   "id": "a9e7cbee-fc34-4e87-9e83-7c3f81570685",
   "metadata": {},
   "outputs": [
    {
     "name": "stdout",
     "output_type": "stream",
     "text": [
      "match 4 12\n"
     ]
    },
    {
     "data": {
      "text/plain": [
       "([14, 13, 12, 12, 12, 7, 4, 3, 1, 0], 4)"
      ]
     },
     "execution_count": 32,
     "metadata": {},
     "output_type": "execute_result"
    }
   ],
   "source": [
    "cards, find_card_bs(cards,query)"
   ]
  },
  {
   "cell_type": "code",
   "execution_count": 5,
   "id": "00f10837-90f7-4aec-b24c-4bbdf9749a23",
   "metadata": {},
   "outputs": [
    {
     "data": {
      "text/plain": [
       "([13, 11, 12, 7, 4, 3, 1, 0], 7)"
      ]
     },
     "execution_count": 5,
     "metadata": {},
     "output_type": "execute_result"
    }
   ],
   "source": [
    "cards, query"
   ]
  },
  {
   "cell_type": "code",
   "execution_count": 6,
   "id": "2adb7861-aa7c-4b30-90d9-762c21f26da3",
   "metadata": {},
   "outputs": [
    {
     "data": {
      "text/plain": [
       "7"
      ]
     },
     "execution_count": 6,
     "metadata": {},
     "output_type": "execute_result"
    }
   ],
   "source": [
    "query"
   ]
  },
  {
   "cell_type": "code",
   "execution_count": 16,
   "id": "bb6f1396-ff4c-4f43-95fc-bedc3a5b8a26",
   "metadata": {},
   "outputs": [
    {
     "name": "stdout",
     "output_type": "stream",
     "text": [
      "match 1 3\n"
     ]
    },
    {
     "data": {
      "text/plain": [
       "1"
      ]
     },
     "execution_count": 16,
     "metadata": {},
     "output_type": "execute_result"
    }
   ],
   "source": [
    "find_card_bs([0, 3, 1, 3],3)"
   ]
  },
  {
   "cell_type": "code",
   "execution_count": 17,
   "id": "2deb14f6-fd5a-4791-a583-797212ef7e30",
   "metadata": {},
   "outputs": [
    {
     "name": "stdout",
     "output_type": "stream",
     "text": [
      "100\n",
      "95\n",
      "90\n",
      "85\n",
      "80\n",
      "75\n",
      "70\n",
      "65\n",
      "60\n",
      "55\n"
     ]
    }
   ],
   "source": [
    "for i in range(100,50,-5):\n",
    "    print(i)"
   ]
  },
  {
   "cell_type": "code",
   "execution_count": 18,
   "id": "829ecc09-1662-485e-ba84-827d3ddcc4da",
   "metadata": {},
   "outputs": [],
   "source": [
    "''' Helper [Generic] function to identify first occurance of input array'''\n",
    "def binary_search(low, high, condition):\n",
    "    while low<= high:\n",
    "        mid = ( low + high) // 2\n",
    "        result = condition(mid)\n",
    "        if result == 'found':\n",
    "            return mid\n",
    "        elif result == 'left':\n",
    "            high = mid -1\n",
    "        else:\n",
    "            low = mid + 1\n",
    "    return -1"
   ]
  },
  {
   "cell_type": "code",
   "execution_count": 19,
   "id": "ec00e3ca-80df-4e9d-8c95-85a668fbb72e",
   "metadata": {},
   "outputs": [],
   "source": [
    "def find_card(cards, query):\n",
    "    # this condition is for descending order input array\n",
    "    def condition(mid):\n",
    "        if cards[mid] == query:\n",
    "            if mid > 0 and cards[mid-1] == query:\n",
    "                return 'left'\n",
    "            else:\n",
    "                return 'found'\n",
    "        elif cards[mid]< query:\n",
    "            return 'left'\n",
    "        else:\n",
    "            return 'right'\n",
    "    # this is for ascending order input\n",
    "    def inc_condition(mid):\n",
    "        if cards[mid] == query:\n",
    "            if mid > 0 and cards[mid+1] == query:\n",
    "                return 'right'\n",
    "            else:\n",
    "                return 'found'\n",
    "        elif cards[mid] < query:\n",
    "            return 'right'\n",
    "        else:\n",
    "            return 'left'\n",
    "            \n",
    "    return binary_search(0, len(cards) -1, condition)"
   ]
  },
  {
   "cell_type": "code",
   "execution_count": 37,
   "id": "d0cf96d2-89ec-41e7-93e1-4f1d76857409",
   "metadata": {},
   "outputs": [],
   "source": [
    "cards = [14, 13,12,12,12,7,4,3,1,0]\n",
    "query = 12"
   ]
  },
  {
   "cell_type": "code",
   "execution_count": 24,
   "id": "ff73f0db-e19b-408b-9ae6-a16c142ed797",
   "metadata": {},
   "outputs": [
    {
     "data": {
      "text/plain": [
       "2"
      ]
     },
     "execution_count": 24,
     "metadata": {},
     "output_type": "execute_result"
    }
   ],
   "source": [
    "find_card(cards, query)"
   ]
  },
  {
   "cell_type": "code",
   "execution_count": 35,
   "id": "379c8721-abd9-4d5c-b782-2152abd90657",
   "metadata": {},
   "outputs": [],
   "source": [
    "def first_position(cards, query):\n",
    "    def condition(mid):\n",
    "        if cards[mid] == query:\n",
    "            if mid > 0 and cards[mid -1] == query:\n",
    "                return 'left'\n",
    "            return 'found'\n",
    "        elif cards[mid] < query:\n",
    "            return 'right'\n",
    "        else:\n",
    "            return 'left'\n",
    "    return binary_search(0, len(cards)-1, condition)\n",
    "\n",
    "def last_position(cards, query):\n",
    "    def condition(mid):\n",
    "        if cards[mid] == query:\n",
    "            if mid < len(cards) -1 and cards[mid+1] == query:\n",
    "                return 'right'\n",
    "            return 'found'\n",
    "        elif cards[mid] < query:\n",
    "            return 'right'\n",
    "        else:\n",
    "            return 'left'\n",
    "    return binary_search(0,len(cards) -1, condition);\n",
    "\n",
    "def find_first_last_position(cards, query):\n",
    "    return first_position(cards, query), last_position(cards, query)"
   ]
  },
  {
   "cell_type": "code",
   "execution_count": 39,
   "id": "a3d71ae0-2cf1-4925-b868-e7719ebd267c",
   "metadata": {},
   "outputs": [
    {
     "data": {
      "text/plain": [
       "(3, 4)"
      ]
     },
     "execution_count": 39,
     "metadata": {},
     "output_type": "execute_result"
    }
   ],
   "source": [
    "find_first_last_position([5,7,7,8,8,10],8)"
   ]
  },
  {
   "cell_type": "code",
   "execution_count": 40,
   "id": "26686674-7260-4d0c-81c0-158073cf5a46",
   "metadata": {},
   "outputs": [],
   "source": [
    "nums = [1,2,3,4]\n",
    "Output=[24,12,8,6]"
   ]
  },
  {
   "cell_type": "code",
   "execution_count": 55,
   "id": "57d2160a-d990-44d8-b94b-194aa5f4712b",
   "metadata": {},
   "outputs": [
    {
     "name": "stdout",
     "output_type": "stream",
     "text": [
      "F:  [1, 1, 1, 1]\n",
      "L:  [1, 1, 1, 1] 1 1\n",
      "LP: 1\n",
      "L:  [1, 1, 1, 1] 2 1\n",
      "LP: 2\n",
      "L:  [1, 1, 2, 1] 3 2\n",
      "LP: 6\n",
      "L:  [1, 1, 2, 6] 4 6\n",
      "LP: 24\n",
      "R:  [1, 1, 2, 6] 4 1\n",
      "R:  [1, 1, 8, 6] 3 4\n",
      "R:  [1, 12, 8, 6] 2 12\n",
      "R:  [24, 12, 8, 6] 1 24\n",
      "[24, 12, 8, 6]\n"
     ]
    }
   ],
   "source": [
    "def product_except_self(nums):\n",
    "    n = len(nums)\n",
    "    result = [1] * n\n",
    "    print('F: ',result)\n",
    "\n",
    "    # Calculate left products\n",
    "    left_product = 1\n",
    "    for i in range(n):\n",
    "        result[i] = left_product\n",
    "        print('L: ',result, nums[i], left_product)\n",
    "        left_product *= nums[i]\n",
    "        print('LP:', left_product)\n",
    "\n",
    "    # Calculate right products and combine with left products\n",
    "    right_product = 1\n",
    "    for i in range(n - 1, -1, -1):\n",
    "        result[i] *= right_product\n",
    "        print('R: ',result, nums[i], right_product)\n",
    "        right_product *= nums[i]\n",
    "\n",
    "    return result\n",
    "\n",
    "# Example\n",
    "nums = [1, 2, 3, 4]\n",
    "print(product_except_self(nums))  # Output: [24, 12, 8, 6]\n"
   ]
  },
  {
   "cell_type": "code",
   "execution_count": 54,
   "id": "acf2c78b-4d76-40c2-9294-af89d955daf9",
   "metadata": {},
   "outputs": [
    {
     "name": "stdout",
     "output_type": "stream",
     "text": [
      "4\n",
      "3\n",
      "2\n",
      "1\n",
      "0\n"
     ]
    }
   ],
   "source": [
    "for i in range(4, -1, -1):\n",
    "    print(i)"
   ]
  },
  {
   "cell_type": "code",
   "execution_count": null,
   "id": "a2f76025-52c5-4880-97fc-5002a1e8d6c1",
   "metadata": {},
   "outputs": [],
   "source": []
  }
 ],
 "metadata": {
  "kernelspec": {
   "display_name": "Python 3 (ipykernel)",
   "language": "python",
   "name": "python3"
  },
  "language_info": {
   "codemirror_mode": {
    "name": "ipython",
    "version": 3
   },
   "file_extension": ".py",
   "mimetype": "text/x-python",
   "name": "python",
   "nbconvert_exporter": "python",
   "pygments_lexer": "ipython3",
   "version": "3.13.0"
  }
 },
 "nbformat": 4,
 "nbformat_minor": 5
}
