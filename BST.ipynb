{
  "metadata": {
    "kernelspec": {
      "name": "python",
      "display_name": "Python (Pyodide)",
      "language": "python"
    },
    "language_info": {
      "codemirror_mode": {
        "name": "python",
        "version": 3
      },
      "file_extension": ".py",
      "mimetype": "text/x-python",
      "name": "python",
      "nbconvert_exporter": "python",
      "pygments_lexer": "ipython3",
      "version": "3.8"
    }
  },
  "nbformat_minor": 4,
  "nbformat": 4,
  "cells": [
    {
      "cell_type": "code",
      "source": "class TreeNode:\n    def __init__(self, key):\n        self.key = key\n        self.left = None\n        self.right = None\n\n    def to_tuple(self):\n        if self is None:\n            return None\n        if self.left is None and self.right is None:\n            return self.key\n        return TreeNode.to_tuple(self.left), self.key, TreeNode.to_tuple(self.right)",
      "metadata": {
        "trusted": true
      },
      "outputs": [],
      "execution_count": 73
    },
    {
      "cell_type": "code",
      "source": "node0 = TreeNode(2)",
      "metadata": {
        "trusted": true
      },
      "outputs": [],
      "execution_count": 2
    },
    {
      "cell_type": "code",
      "source": "node0.left = TreeNode(3)",
      "metadata": {
        "trusted": true
      },
      "outputs": [],
      "execution_count": 4
    },
    {
      "cell_type": "code",
      "source": "node0.left.right = TreeNode(1)",
      "metadata": {
        "trusted": true
      },
      "outputs": [],
      "execution_count": 7
    },
    {
      "cell_type": "code",
      "source": "node0.left.right.key",
      "metadata": {
        "trusted": true
      },
      "outputs": [
        {
          "execution_count": 8,
          "output_type": "execute_result",
          "data": {
            "text/plain": "1"
          },
          "metadata": {}
        }
      ],
      "execution_count": 8
    },
    {
      "cell_type": "code",
      "source": "node0.right = TreeNode(5)",
      "metadata": {
        "trusted": true
      },
      "outputs": [],
      "execution_count": 9
    },
    {
      "cell_type": "code",
      "source": "node0.right.left =TreeNode(3)",
      "metadata": {
        "trusted": true
      },
      "outputs": [],
      "execution_count": 10
    },
    {
      "cell_type": "code",
      "source": "node0.right.left.right = TreeNode(4)",
      "metadata": {
        "trusted": true
      },
      "outputs": [],
      "execution_count": 11
    },
    {
      "cell_type": "code",
      "source": "node0.right.right = TreeNode(7)",
      "metadata": {
        "trusted": true
      },
      "outputs": [],
      "execution_count": 12
    },
    {
      "cell_type": "code",
      "source": "node0.right.right.left = TreeNode(6)",
      "metadata": {
        "trusted": true
      },
      "outputs": [],
      "execution_count": 13
    },
    {
      "cell_type": "code",
      "source": "node0.right.right.right = TreeNode(8)",
      "metadata": {
        "trusted": true
      },
      "outputs": [],
      "execution_count": 14
    },
    {
      "cell_type": "code",
      "source": "node0.right.right.right.key",
      "metadata": {
        "trusted": true
      },
      "outputs": [
        {
          "execution_count": 15,
          "output_type": "execute_result",
          "data": {
            "text/plain": "8"
          },
          "metadata": {}
        }
      ],
      "execution_count": 15
    },
    {
      "cell_type": "code",
      "source": "tree_tuple = ((1,3,None),2,((None,3,4),5,(6,7,8)))",
      "metadata": {
        "trusted": true
      },
      "outputs": [],
      "execution_count": 4
    },
    {
      "cell_type": "code",
      "source": "%%time\ndef parse_tuple(data):\n    # print(data)\n    if isinstance(data, tuple) and len(data) == 3:\n        node = TreeNode(data[1])\n        node.left = parse_tuple(data[0])\n        node.right = parse_tuple(data[2])\n    elif data is None:\n        node = None\n    else:\n        node = TreeNode(data)\n    return node",
      "metadata": {
        "trusted": true
      },
      "outputs": [
        {
          "name": "stdout",
          "text": "CPU times: user 0 ns, sys: 0 ns, total: 0 ns\nWall time: 0 ns\n",
          "output_type": "stream"
        }
      ],
      "execution_count": 75
    },
    {
      "cell_type": "code",
      "source": "%%time\ntree0=parse_tuple(tree_tuple)",
      "metadata": {
        "trusted": true
      },
      "outputs": [
        {
          "name": "stdout",
          "text": "CPU times: user 0 ns, sys: 0 ns, total: 0 ns\nWall time: 0 ns\n",
          "output_type": "stream"
        }
      ],
      "execution_count": 76
    },
    {
      "cell_type": "code",
      "source": "%%time\ntree.right.left.right.key",
      "metadata": {
        "trusted": true
      },
      "outputs": [
        {
          "name": "stdout",
          "text": "CPU times: user 0 ns, sys: 0 ns, total: 0 ns\nWall time: 1e+03 µs\n",
          "output_type": "stream"
        },
        {
          "execution_count": 63,
          "output_type": "execute_result",
          "data": {
            "text/plain": "4"
          },
          "metadata": {}
        }
      ],
      "execution_count": 67
    },
    {
      "cell_type": "code",
      "source": "TreeNode.tree_to_tuple(tree0)   ",
      "metadata": {
        "trusted": true
      },
      "outputs": [
        {
          "name": "stdout",
          "text": "<__main__.TreeNode object at 0x2952ac8>\n",
          "output_type": "stream"
        },
        {
          "execution_count": 73,
          "output_type": "execute_result",
          "data": {
            "text/plain": "(2, None, None)"
          },
          "metadata": {}
        }
      ],
      "execution_count": 77
    },
    {
      "cell_type": "code",
      "source": "tree0.left.left.key",
      "metadata": {
        "trusted": true
      },
      "outputs": [
        {
          "execution_count": 76,
          "output_type": "execute_result",
          "data": {
            "text/plain": "1"
          },
          "metadata": {}
        }
      ],
      "execution_count": 80
    },
    {
      "cell_type": "code",
      "source": "def traverse_inorder(node):\n    if node is None:\n        return []\n    return (traverse_inorder(node.left) + [node.key] + traverse_inorder(node.right))",
      "metadata": {
        "trusted": true
      },
      "outputs": [],
      "execution_count": 81
    },
    {
      "cell_type": "code",
      "source": "tree0",
      "metadata": {
        "trusted": true
      },
      "outputs": [
        {
          "execution_count": 78,
          "output_type": "execute_result",
          "data": {
            "text/plain": "<__main__.TreeNode at 0x2952ac8>"
          },
          "metadata": {}
        }
      ],
      "execution_count": 82
    },
    {
      "cell_type": "code",
      "source": "traverse_inorder(tree0)",
      "metadata": {
        "trusted": true
      },
      "outputs": [
        {
          "execution_count": 79,
          "output_type": "execute_result",
          "data": {
            "text/plain": "[1, 3, 2, 3, 4, 5, 6, 7, 8]"
          },
          "metadata": {}
        }
      ],
      "execution_count": 83
    },
    {
      "cell_type": "code",
      "source": "def traverse_postorder(node, result = None):\n    if result is None:\n        result = []\n    if node is not None:\n        traverse_postorder(node.left, result)\n        traverse_postorder(node.right, result)\n        result.append(node.key)\n    return result",
      "metadata": {
        "trusted": true
      },
      "outputs": [],
      "execution_count": 87
    },
    {
      "cell_type": "code",
      "source": "traverse_postorder(tree0)",
      "metadata": {
        "trusted": true
      },
      "outputs": [
        {
          "execution_count": 84,
          "output_type": "execute_result",
          "data": {
            "text/plain": "[1, 3, 4, 3, 6, 8, 7, 5, 2]"
          },
          "metadata": {}
        }
      ],
      "execution_count": 88
    },
    {
      "cell_type": "code",
      "source": "def traverse_preorder(node, result=None):\n    if result is None:\n        result = []\n    if node is not None:\n        result.append(node.key)\n        traverse_preorder(node.left, result)\n        traverse_preorder(node.right,result)\n    return result",
      "metadata": {
        "trusted": true
      },
      "outputs": [],
      "execution_count": 90
    },
    {
      "cell_type": "code",
      "source": "traverse_preorder(tree0)",
      "metadata": {
        "trusted": true
      },
      "outputs": [
        {
          "execution_count": 87,
          "output_type": "execute_result",
          "data": {
            "text/plain": "[2, 3, 1, 5, 3, 4, 7, 6, 8]"
          },
          "metadata": {}
        }
      ],
      "execution_count": 91
    },
    {
      "cell_type": "code",
      "source": "# Depth or height or Tree (BST)\ndef tree_height(node):\n    if node is None:\n        return 0\n    return 1 + max(tree_height(node.left),tree_height(node.right))",
      "metadata": {
        "trusted": true
      },
      "outputs": [],
      "execution_count": 92
    },
    {
      "cell_type": "code",
      "source": "tree_height(tree0)",
      "metadata": {
        "trusted": true
      },
      "outputs": [
        {
          "execution_count": 89,
          "output_type": "execute_result",
          "data": {
            "text/plain": "4"
          },
          "metadata": {}
        }
      ],
      "execution_count": 93
    },
    {
      "cell_type": "code",
      "source": "def tree_size(node):\n    if node is None:\n        return 0\n    return 1 + tree_size(node.left) + tree_size(node.right)",
      "metadata": {
        "trusted": true
      },
      "outputs": [],
      "execution_count": 97
    },
    {
      "cell_type": "code",
      "source": "tree_size(tree0)",
      "metadata": {
        "trusted": true
      },
      "outputs": [
        {
          "execution_count": 94,
          "output_type": "execute_result",
          "data": {
            "text/plain": "9"
          },
          "metadata": {}
        }
      ],
      "execution_count": 98
    },
    {
      "cell_type": "code",
      "source": "def display_keys(node, space='\\t', level=0):\n    # print(node.key if node else None, level)\n    \n    # If the node is empty\n    if node is None:\n        print(space*level + '∅')\n        return   \n    \n    # If the node is a leaf \n    if node.left is None and node.right is None:\n        print(space*level + str(node.key))\n        return\n    \n    # If the node has children\n    display_keys(node.right, space, level+1)\n    print(space*level + str(node.key))\n    display_keys(node.left,space, level+1)    ",
      "metadata": {
        "trusted": true
      },
      "outputs": [],
      "execution_count": 5
    },
    {
      "cell_type": "code",
      "source": "class TreeNode:\n    def __init__(self, key):\n        self.key = key\n        self.left = None\n        self.right = None\n\n    def height(self):\n        if self is None:\n            return 0\n        return 1 + max(TreeNode.height(self.left), TreeNode.height(self.right))\n\n    def size(self):\n        if self is None:\n            return 0\n        return 1 + TreeNode.size(self.left) + TreeNode.size(self.right)\n\n    def inorder(self):\n        if self is None:\n            return []\n        return TreeNode.inorder(self.left) + [ self.key ] + TreeNode.inorder(self.right)\n\n    def postorder(self, result=None):\n        if result is None:\n            return []\n        if self is not None:\n            TreeNode.postorder(self.left, result)\n            TreeNode.postorder(self.right, result)\n            result.append(self.key)\n        return result\n\n    def preorder(self, result=None):\n        if result is None:\n            return []\n        if self is not None:\n            result.append(self.key)\n            TreeNode.preorder(self.left, result)\n            TreeNode.preorder(self.right, result)\n        return result\n\n    def find_mind(self):\n        current = self\n        while current.left is not None:\n            current= current.left\n        return current\n    \n    @staticmethod    \n    def parse_tuple(data):\n        # print(data)\n        if isinstance(data, tuple) and len(data) == 3:\n            node = TreeNode(data[1])\n            node.left = TreeNode.parse_tuple(data[0])\n            node.right = TreeNode.parse_tuple(data[2])\n        elif data is None:\n            node = None\n        else:\n            node = TreeNode(data)\n        return node\n\n    def to_tuple(self):\n        if self is None:\n            return None\n        if self.left is None and self.right is None:\n            return self.key\n        return TreeNode.to_tuple(self.left), self.key, TreeNode.to_tuple(self.right)\n\n    def display_keys(node, space='\\t', level=0):\n        # print(node.key if node else None, level)\n        # If the node is empty\n        if node is None:\n            print(space*level + '∅')\n            return   \n        \n        # If the node is a leaf \n        if node.left is None and node.right is None:\n            print(space*level + str(node.key))\n            return\n        \n        # If the node has children\n        display_keys(node.right, space, level+1)\n        print(space*level + str(node.key))\n        display_keys(node.left,space, level+1) \n\n    def insert(self, data):\n        if data < self.key:\n            if self.left is None:\n                self.left = TreeNode(data)\n            else:\n                self.left.insert(data)\n        elif data > self.key:\n            if self.right is None:\n                self.right = TreeNode(data)\n            else:\n                self.right.insert(data)\n\n    def delete(self, data):\n        # Case 1: Tree is empty\n        if self is None:\n            return self\n        # Case 2: Recurrance down, find then delete\n        if data < self.key:\n            if self.left:\n                self.left = self.left.delete(data)\n        elif data > self.key:\n            if self.right:\n                self.right = self.right.delete(data)\n        # This method to delete node\n        else:\n            # Case1.1 No children\n            if self.left is None:\n                temp = self.right\n                self = None\n                return temp\n\n            # Case 2 One child\n            elif self.right is None:\n                temp = self.left\n                self = None\n                return temp\n\n            temp = self.right.find_mind()\n            self.key = temp.key\n\n            # Delete the in order successor\n            self.right = self.right.delete(temp.key)\n        return self\n        \n        \n\n    def __str__(self):\n        return \"BinaryTree <{}>\".format(self.to_tuple())\n\n    def __repr__(self):\n        return \"BinaryTree <{}>\".format(self.to_tuple())",
      "metadata": {
        "trusted": true
      },
      "outputs": [],
      "execution_count": 43
    },
    {
      "cell_type": "code",
      "source": "tree_tuple",
      "metadata": {
        "trusted": true
      },
      "outputs": [
        {
          "execution_count": 44,
          "output_type": "execute_result",
          "data": {
            "text/plain": "((1, 3, None), 2, ((None, 3, 4), 5, (6, 7, 8)))"
          },
          "metadata": {}
        }
      ],
      "execution_count": 44
    },
    {
      "cell_type": "code",
      "source": "tree1 = TreeNode.parse_tuple(tree_tuple)",
      "metadata": {
        "trusted": true
      },
      "outputs": [],
      "execution_count": 45
    },
    {
      "cell_type": "code",
      "source": "tree1",
      "metadata": {
        "trusted": true
      },
      "outputs": [
        {
          "execution_count": 46,
          "output_type": "execute_result",
          "data": {
            "text/plain": "BinaryTree <((1, 3, None), 2, ((None, 3, 4), 5, (6, 7, 8)))>"
          },
          "metadata": {}
        }
      ],
      "execution_count": 46
    },
    {
      "cell_type": "code",
      "source": "tree1.height()",
      "metadata": {
        "trusted": true
      },
      "outputs": [
        {
          "execution_count": 47,
          "output_type": "execute_result",
          "data": {
            "text/plain": "4"
          },
          "metadata": {}
        }
      ],
      "execution_count": 47
    },
    {
      "cell_type": "code",
      "source": "tree1.size()",
      "metadata": {
        "trusted": true
      },
      "outputs": [
        {
          "execution_count": 48,
          "output_type": "execute_result",
          "data": {
            "text/plain": "9"
          },
          "metadata": {}
        }
      ],
      "execution_count": 48
    },
    {
      "cell_type": "code",
      "source": "tree1.inorder()",
      "metadata": {
        "trusted": true
      },
      "outputs": [
        {
          "execution_count": 49,
          "output_type": "execute_result",
          "data": {
            "text/plain": "[1, 3, 2, 3, 4, 5, 6, 7, 8]"
          },
          "metadata": {}
        }
      ],
      "execution_count": 49
    },
    {
      "cell_type": "code",
      "source": "tree1.preorder([])",
      "metadata": {
        "trusted": true
      },
      "outputs": [
        {
          "execution_count": 50,
          "output_type": "execute_result",
          "data": {
            "text/plain": "[2, 3, 1, 5, 3, 4, 7, 6, 8]"
          },
          "metadata": {}
        }
      ],
      "execution_count": 50
    },
    {
      "cell_type": "code",
      "source": "tree1.postorder([])",
      "metadata": {
        "trusted": true
      },
      "outputs": [
        {
          "execution_count": 51,
          "output_type": "execute_result",
          "data": {
            "text/plain": "[1, 3, 4, 3, 6, 8, 7, 5, 2]"
          },
          "metadata": {}
        }
      ],
      "execution_count": 51
    },
    {
      "cell_type": "code",
      "source": "tree1.display_keys('    ')",
      "metadata": {
        "trusted": true
      },
      "outputs": [
        {
          "name": "stdout",
          "text": "            8\n        7\n            6\n    5\n            4\n        3\n            ∅\n2\n        ∅\n    3\n        1\n",
          "output_type": "stream"
        }
      ],
      "execution_count": 52
    },
    {
      "cell_type": "code",
      "source": "def remove_none(nums):\n    return [ x for x in nums if x is not None]",
      "metadata": {
        "trusted": true
      },
      "outputs": [],
      "execution_count": 53
    },
    {
      "cell_type": "code",
      "source": "def is_bst(node):\n    if node is None:\n        return True, None, None\n\n    is_bst_l, min_l, max_l = is_bst(node.left)\n    is_bst_r, min_r, max_r = is_bst(node.right)\n\n    is_bst_node = (is_bst_l and is_bst_r and (max_l is None or node.key > max_l) and (min_r is None or node.key < min_r))\n\n    min_key = min(remove_none([min_l, node.key, min_r]))\n    max_key = max(remove_none([max_l, node.key, max_r]))\n\n    return is_bst_node, min_key, max_key\n                    ",
      "metadata": {
        "trusted": true
      },
      "outputs": [],
      "execution_count": 54
    },
    {
      "cell_type": "code",
      "source": "is_bst(tree1)",
      "metadata": {
        "trusted": true
      },
      "outputs": [
        {
          "execution_count": 56,
          "output_type": "execute_result",
          "data": {
            "text/plain": "(False, 1, 8)"
          },
          "metadata": {}
        }
      ],
      "execution_count": 56
    },
    {
      "cell_type": "code",
      "source": "tree1.insert(0)",
      "metadata": {
        "trusted": true
      },
      "outputs": [],
      "execution_count": 40
    },
    {
      "cell_type": "code",
      "source": "tree1.display_keys()",
      "metadata": {
        "trusted": true
      },
      "outputs": [
        {
          "name": "stdout",
          "text": "\t\t\t8\n\t\t7\n\t\t\t6\n\t5\n\t\t\t4\n\t\t3\n\t\t\t∅\n2\n\t\t∅\n\t3\n\t\t\t∅\n\t\t1\n\t\t\t0\n",
          "output_type": "stream"
        }
      ],
      "execution_count": 41
    },
    {
      "cell_type": "code",
      "source": "",
      "metadata": {
        "trusted": true
      },
      "outputs": [],
      "execution_count": null
    }
  ]
}