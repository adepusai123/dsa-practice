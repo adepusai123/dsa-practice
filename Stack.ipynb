{
  "cells": [
    {
      "cell_type": "code",
      "execution_count": 16,
      "metadata": {
        "trusted": true
      },
      "outputs": [],
      "source": [
        "class Stack:\n",
        "    def __init__(self, max_size):\n",
        "        self.max_size = max_size\n",
        "        self.elements = [None] * self.max_size\n",
        "        self.top = -1\n",
        "\n",
        "    def isFull(self):\n",
        "        if(self.top== self.max_size -1):\n",
        "            return True\n",
        "        return False\n",
        "\n",
        "    def isEmpty(self):\n",
        "        if self.top == -1:\n",
        "            return True\n",
        "        else:\n",
        "            return False\n",
        "\n",
        "    def push(self,data):\n",
        "        if(self.isFull()):\n",
        "            print('the stack is full')\n",
        "        else:\n",
        "            self.top += 1\n",
        "            self.elements[self.top] = data\n",
        "            print('element pushed to the stack')\n",
        "        \n",
        "    def pop(self):\n",
        "        if self.isEmpty():\n",
        "            print ('The stack is empty')\n",
        "        else:\n",
        "            data = self.elements[self.top]\n",
        "            self.top -=1\n",
        "            print('element is popped from the stack');\n",
        "\n",
        "            return data\n",
        "\n",
        "    def display(self):\n",
        "        if self.isEmpty():\n",
        "            print ('Stack is empty')\n",
        "        else:\n",
        "            index = self.top\n",
        "            while(index>=0):\n",
        "                print(self.elements[index])\n",
        "                index -= 1\n",
        "\n",
        "    def get_max_size(self):\n",
        "        return self.max_size\n",
        "\n",
        "    def __str__(self):\n",
        "        msg = []\n",
        "        index  = self.__top\n",
        "        while (index >=0):\n",
        "            msg.append((str)(self.elements[index]))\n",
        "            index -=1\n",
        "        msg = \" \".join(msg)\n",
        "        msg = \"Stack data(top to bottom): \"+msg\n",
        "        return msg"
      ]
    },
    {
      "cell_type": "code",
      "execution_count": 17,
      "metadata": {
        "trusted": true
      },
      "outputs": [
        {
          "name": "stdout",
          "output_type": "stream",
          "text": [
            "-1\n"
          ]
        }
      ],
      "source": [
        "stack = Stack(5)\n",
        "print(stack.top)"
      ]
    },
    {
      "cell_type": "code",
      "execution_count": 18,
      "metadata": {
        "trusted": true
      },
      "outputs": [],
      "source": [
        "expr = \"{5*{3+2}}{3*2}\""
      ]
    },
    {
      "cell_type": "code",
      "execution_count": 19,
      "metadata": {
        "trusted": true
      },
      "outputs": [
        {
          "name": "stdout",
          "output_type": "stream",
          "text": [
            "element pushed to the stack\n",
            "element pushed to the stack\n",
            "element is popped from the stack\n",
            "element is popped from the stack\n",
            "element pushed to the stack\n",
            "element is popped from the stack\n"
          ]
        }
      ],
      "source": [
        "for char in expr:\n",
        "    if (char == \"{\"):\n",
        "        stack.push(char)\n",
        "    elif char == '}':\n",
        "        stack.pop()"
      ]
    },
    {
      "cell_type": "code",
      "execution_count": null,
      "metadata": {
        "trusted": true
      },
      "outputs": [],
      "source": []
    }
  ],
  "metadata": {
    "kernelspec": {
      "display_name": "Python (Pyodide)",
      "language": "python",
      "name": "python"
    },
    "language_info": {
      "codemirror_mode": {
        "name": "python",
        "version": 3
      },
      "file_extension": ".py",
      "mimetype": "text/x-python",
      "name": "python",
      "nbconvert_exporter": "python",
      "pygments_lexer": "ipython3",
      "version": "3.8"
    }
  },
  "nbformat": 4,
  "nbformat_minor": 4
}
